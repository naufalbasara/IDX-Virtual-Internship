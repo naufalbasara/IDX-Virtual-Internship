{
  "cells": [
    {
      "cell_type": "code",
      "execution_count": null,
      "metadata": {
        "id": "Fb9MypihXTRK"
      },
      "outputs": [],
      "source": [
        "import pandas as pd\n",
        "import numpy as np\n",
        "import os\n",
        "import matplotlib.pyplot as plt\n",
        "import tensorflow as tf\n",
        "import seaborn as sns"
      ]
    },
    {
      "cell_type": "code",
      "execution_count": null,
      "metadata": {
        "id": "X1PbqqNnetY5"
      },
      "outputs": [],
      "source": [
        "from sklearn.ensemble import RandomForestRegressor"
      ]
    },
    {
      "cell_type": "code",
      "execution_count": null,
      "metadata": {
        "id": "TQPb5mrvsSl-"
      },
      "outputs": [],
      "source": [
        "base_path = '/content/drive/MyDrive/Internship/IDX Partners'\n",
        "data_path = os.path.join(base_path, 'Dataset')"
      ]
    },
    {
      "cell_type": "code",
      "execution_count": null,
      "metadata": {
        "colab": {
          "base_uri": "https://localhost:8080/"
        },
        "id": "LBqQUV5_dZT9",
        "outputId": "985d3f79-a37b-40bd-bc20-a4b42102a8c7"
      },
      "outputs": [
        {
          "output_type": "stream",
          "name": "stdout",
          "text": [
            "<class 'pandas.core.frame.DataFrame'>\n",
            "RangeIndex: 466256 entries, 0 to 466255\n",
            "Data columns (total 41 columns):\n",
            " #   Column                      Non-Null Count   Dtype  \n",
            "---  ------                      --------------   -----  \n",
            " 0   loan_amnt                   466256 non-null  int64  \n",
            " 1   funded_amnt                 466256 non-null  int64  \n",
            " 2   funded_amnt_inv             466256 non-null  float64\n",
            " 3   term                        466256 non-null  int64  \n",
            " 4   int_rate                    466256 non-null  float64\n",
            " 5   installment                 466256 non-null  float64\n",
            " 6   grade                       466256 non-null  int64  \n",
            " 7   emp_length                  466256 non-null  int64  \n",
            " 8   home_ownership              466256 non-null  int64  \n",
            " 9   annual_inc                  466256 non-null  float64\n",
            " 10  verification_status         466256 non-null  int64  \n",
            " 11  pymnt_plan                  466256 non-null  int64  \n",
            " 12  dti                         466256 non-null  float64\n",
            " 13  delinq_2yrs                 466256 non-null  float64\n",
            " 14  inq_last_6mths              466256 non-null  float64\n",
            " 15  mths_since_last_delinq      466256 non-null  float64\n",
            " 16  mths_since_last_record      466256 non-null  float64\n",
            " 17  open_acc                    466256 non-null  float64\n",
            " 18  pub_rec                     466256 non-null  float64\n",
            " 19  revol_bal                   466256 non-null  int64  \n",
            " 20  revol_util                  466256 non-null  float64\n",
            " 21  total_acc                   466256 non-null  float64\n",
            " 22  initial_list_status         466256 non-null  int64  \n",
            " 23  out_prncp                   466256 non-null  float64\n",
            " 24  out_prncp_inv               466256 non-null  float64\n",
            " 25  total_pymnt                 466256 non-null  float64\n",
            " 26  total_pymnt_inv             466256 non-null  float64\n",
            " 27  total_rec_prncp             466256 non-null  float64\n",
            " 28  total_rec_int               466256 non-null  float64\n",
            " 29  total_rec_late_fee          466256 non-null  float64\n",
            " 30  recoveries                  466256 non-null  float64\n",
            " 31  collection_recovery_fee     466256 non-null  float64\n",
            " 32  last_pymnt_amnt             466256 non-null  float64\n",
            " 33  collections_12_mths_ex_med  466256 non-null  float64\n",
            " 34  policy_code                 466256 non-null  int64  \n",
            " 35  acc_now_delinq              466256 non-null  float64\n",
            " 36  tot_coll_amt                466256 non-null  float64\n",
            " 37  tot_cur_bal                 466256 non-null  float64\n",
            " 38  total_rev_hi_lim            466256 non-null  float64\n",
            " 39  employed                    466256 non-null  int64  \n",
            " 40  risk_assessment             466256 non-null  int64  \n",
            "dtypes: float64(28), int64(13)\n",
            "memory usage: 145.8 MB\n"
          ]
        }
      ],
      "source": [
        "df = pd.read_csv(os.path.join(data_path, 'cleaned-model-v1.csv'))\n",
        "df.drop(['Unnamed: 0'], axis=1, inplace=True)\n",
        "df.info()"
      ]
    },
    {
      "cell_type": "markdown",
      "source": [
        "## Feature Engineering"
      ],
      "metadata": {
        "id": "jXnu4mxuqOYB"
      }
    },
    {
      "cell_type": "code",
      "source": [
        "# Feature Standardization/Normalization\n",
        "\n",
        "# Standardize the feature\n",
        "from sklearn.preprocessing import StandardScaler\n",
        "\n",
        "sc = StandardScaler() # creating an instance of the class object (x-mu/sd)\n",
        "df[['loan_amnt', 'funded_amnt', 'funded_amnt_inv', 'int_rate', 'installment', 'annual_inc', 'dti', 'revol_bal', 'revol_util', 'total_acc', 'out_prncp', 'out_prncp_inv', 'total_pymnt', 'total_pymnt_inv', 'total_rec_prncp', 'total_rec_int', 'total_rec_late_fee', 'recoveries', 'last_pymnt_amnt', 'tot_coll_amt', 'tot_cur_bal', 'total_rev_hi_lim']] = sc.fit_transform(df[['loan_amnt', 'funded_amnt', 'funded_amnt_inv', 'int_rate', 'installment', 'annual_inc', 'dti', 'revol_bal', 'revol_util', 'total_acc', 'out_prncp', 'out_prncp_inv', 'total_pymnt', 'total_pymnt_inv', 'total_rec_prncp', 'total_rec_int', 'total_rec_late_fee', 'recoveries', 'last_pymnt_amnt', 'tot_coll_amt', 'tot_cur_bal', 'total_rev_hi_lim']])"
      ],
      "metadata": {
        "id": "fJWZ09bwqNfD"
      },
      "execution_count": null,
      "outputs": []
    },
    {
      "cell_type": "code",
      "source": [
        "df.head()"
      ],
      "metadata": {
        "colab": {
          "base_uri": "https://localhost:8080/",
          "height": 256
        },
        "id": "UlmnyZlYy0d9",
        "outputId": "9332b4d9-eec5-4cf8-a771-23f47647640c"
      },
      "execution_count": null,
      "outputs": [
        {
          "output_type": "execute_result",
          "data": {
            "text/plain": [
              "   loan_amnt  funded_amnt  funded_amnt_inv  term  int_rate  installment  \\\n",
              "0  -1.124494    -1.123065        -1.114611    36 -0.729655    -1.105678   \n",
              "1  -1.426195    -1.425209        -1.412904    60  0.330572    -1.528875   \n",
              "2  -1.438263    -1.437295        -1.424957    36  0.488918    -1.428251   \n",
              "3  -0.521090    -0.518776        -0.508986    36 -0.077914    -0.381019   \n",
              "4  -1.365855    -1.364780        -1.352643    60 -0.261503    -1.496183   \n",
              "\n",
              "   grade  emp_length  home_ownership  annual_inc  ...  \\\n",
              "0      1          10               0   -0.896558  ...   \n",
              "1      2           0               0   -0.787394  ...   \n",
              "2      2          10               0   -1.110302  ...   \n",
              "3      2          10               0   -0.438068  ...   \n",
              "4      1           1               0    0.122310  ...   \n",
              "\n",
              "   collection_recovery_fee  last_pymnt_amnt  collections_12_mths_ex_med  \\\n",
              "0                     0.00        -0.531513                         0.0   \n",
              "1                     1.11        -0.540867                         0.0   \n",
              "2                     0.00        -0.445410                         0.0   \n",
              "3                     0.00        -0.498054                         0.0   \n",
              "4                     0.00        -0.550204                         0.0   \n",
              "\n",
              "   policy_code  acc_now_delinq  tot_coll_amt  tot_cur_bal  total_rev_hi_lim  \\\n",
              "0            1             0.0     -0.012089    -0.722478         -0.002002   \n",
              "1            1             0.0     -0.012089    -0.803695         -0.095949   \n",
              "2            1             0.0     -0.012089    -0.795078         -0.095949   \n",
              "3            1             0.0     -0.012089    -0.777139         -0.095949   \n",
              "4            1             0.0     -0.012089    -0.626500         -0.002002   \n",
              "\n",
              "   employed  risk_assessment  \n",
              "0         0                1  \n",
              "1         1                0  \n",
              "2         0                1  \n",
              "3         1                1  \n",
              "4         1                1  \n",
              "\n",
              "[5 rows x 41 columns]"
            ],
            "text/html": [
              "\n",
              "  <div id=\"df-7ed5638e-f10d-4eb3-8bfa-e00911893bf2\" class=\"colab-df-container\">\n",
              "    <div>\n",
              "<style scoped>\n",
              "    .dataframe tbody tr th:only-of-type {\n",
              "        vertical-align: middle;\n",
              "    }\n",
              "\n",
              "    .dataframe tbody tr th {\n",
              "        vertical-align: top;\n",
              "    }\n",
              "\n",
              "    .dataframe thead th {\n",
              "        text-align: right;\n",
              "    }\n",
              "</style>\n",
              "<table border=\"1\" class=\"dataframe\">\n",
              "  <thead>\n",
              "    <tr style=\"text-align: right;\">\n",
              "      <th></th>\n",
              "      <th>loan_amnt</th>\n",
              "      <th>funded_amnt</th>\n",
              "      <th>funded_amnt_inv</th>\n",
              "      <th>term</th>\n",
              "      <th>int_rate</th>\n",
              "      <th>installment</th>\n",
              "      <th>grade</th>\n",
              "      <th>emp_length</th>\n",
              "      <th>home_ownership</th>\n",
              "      <th>annual_inc</th>\n",
              "      <th>...</th>\n",
              "      <th>collection_recovery_fee</th>\n",
              "      <th>last_pymnt_amnt</th>\n",
              "      <th>collections_12_mths_ex_med</th>\n",
              "      <th>policy_code</th>\n",
              "      <th>acc_now_delinq</th>\n",
              "      <th>tot_coll_amt</th>\n",
              "      <th>tot_cur_bal</th>\n",
              "      <th>total_rev_hi_lim</th>\n",
              "      <th>employed</th>\n",
              "      <th>risk_assessment</th>\n",
              "    </tr>\n",
              "  </thead>\n",
              "  <tbody>\n",
              "    <tr>\n",
              "      <th>0</th>\n",
              "      <td>-1.124494</td>\n",
              "      <td>-1.123065</td>\n",
              "      <td>-1.114611</td>\n",
              "      <td>36</td>\n",
              "      <td>-0.729655</td>\n",
              "      <td>-1.105678</td>\n",
              "      <td>1</td>\n",
              "      <td>10</td>\n",
              "      <td>0</td>\n",
              "      <td>-0.896558</td>\n",
              "      <td>...</td>\n",
              "      <td>0.00</td>\n",
              "      <td>-0.531513</td>\n",
              "      <td>0.0</td>\n",
              "      <td>1</td>\n",
              "      <td>0.0</td>\n",
              "      <td>-0.012089</td>\n",
              "      <td>-0.722478</td>\n",
              "      <td>-0.002002</td>\n",
              "      <td>0</td>\n",
              "      <td>1</td>\n",
              "    </tr>\n",
              "    <tr>\n",
              "      <th>1</th>\n",
              "      <td>-1.426195</td>\n",
              "      <td>-1.425209</td>\n",
              "      <td>-1.412904</td>\n",
              "      <td>60</td>\n",
              "      <td>0.330572</td>\n",
              "      <td>-1.528875</td>\n",
              "      <td>2</td>\n",
              "      <td>0</td>\n",
              "      <td>0</td>\n",
              "      <td>-0.787394</td>\n",
              "      <td>...</td>\n",
              "      <td>1.11</td>\n",
              "      <td>-0.540867</td>\n",
              "      <td>0.0</td>\n",
              "      <td>1</td>\n",
              "      <td>0.0</td>\n",
              "      <td>-0.012089</td>\n",
              "      <td>-0.803695</td>\n",
              "      <td>-0.095949</td>\n",
              "      <td>1</td>\n",
              "      <td>0</td>\n",
              "    </tr>\n",
              "    <tr>\n",
              "      <th>2</th>\n",
              "      <td>-1.438263</td>\n",
              "      <td>-1.437295</td>\n",
              "      <td>-1.424957</td>\n",
              "      <td>36</td>\n",
              "      <td>0.488918</td>\n",
              "      <td>-1.428251</td>\n",
              "      <td>2</td>\n",
              "      <td>10</td>\n",
              "      <td>0</td>\n",
              "      <td>-1.110302</td>\n",
              "      <td>...</td>\n",
              "      <td>0.00</td>\n",
              "      <td>-0.445410</td>\n",
              "      <td>0.0</td>\n",
              "      <td>1</td>\n",
              "      <td>0.0</td>\n",
              "      <td>-0.012089</td>\n",
              "      <td>-0.795078</td>\n",
              "      <td>-0.095949</td>\n",
              "      <td>0</td>\n",
              "      <td>1</td>\n",
              "    </tr>\n",
              "    <tr>\n",
              "      <th>3</th>\n",
              "      <td>-0.521090</td>\n",
              "      <td>-0.518776</td>\n",
              "      <td>-0.508986</td>\n",
              "      <td>36</td>\n",
              "      <td>-0.077914</td>\n",
              "      <td>-0.381019</td>\n",
              "      <td>2</td>\n",
              "      <td>10</td>\n",
              "      <td>0</td>\n",
              "      <td>-0.438068</td>\n",
              "      <td>...</td>\n",
              "      <td>0.00</td>\n",
              "      <td>-0.498054</td>\n",
              "      <td>0.0</td>\n",
              "      <td>1</td>\n",
              "      <td>0.0</td>\n",
              "      <td>-0.012089</td>\n",
              "      <td>-0.777139</td>\n",
              "      <td>-0.095949</td>\n",
              "      <td>1</td>\n",
              "      <td>1</td>\n",
              "    </tr>\n",
              "    <tr>\n",
              "      <th>4</th>\n",
              "      <td>-1.365855</td>\n",
              "      <td>-1.364780</td>\n",
              "      <td>-1.352643</td>\n",
              "      <td>60</td>\n",
              "      <td>-0.261503</td>\n",
              "      <td>-1.496183</td>\n",
              "      <td>1</td>\n",
              "      <td>1</td>\n",
              "      <td>0</td>\n",
              "      <td>0.122310</td>\n",
              "      <td>...</td>\n",
              "      <td>0.00</td>\n",
              "      <td>-0.550204</td>\n",
              "      <td>0.0</td>\n",
              "      <td>1</td>\n",
              "      <td>0.0</td>\n",
              "      <td>-0.012089</td>\n",
              "      <td>-0.626500</td>\n",
              "      <td>-0.002002</td>\n",
              "      <td>1</td>\n",
              "      <td>1</td>\n",
              "    </tr>\n",
              "  </tbody>\n",
              "</table>\n",
              "<p>5 rows × 41 columns</p>\n",
              "</div>\n",
              "    <div class=\"colab-df-buttons\">\n",
              "\n",
              "  <div class=\"colab-df-container\">\n",
              "    <button class=\"colab-df-convert\" onclick=\"convertToInteractive('df-7ed5638e-f10d-4eb3-8bfa-e00911893bf2')\"\n",
              "            title=\"Convert this dataframe to an interactive table.\"\n",
              "            style=\"display:none;\">\n",
              "\n",
              "  <svg xmlns=\"http://www.w3.org/2000/svg\" height=\"24px\" viewBox=\"0 -960 960 960\">\n",
              "    <path d=\"M120-120v-720h720v720H120Zm60-500h600v-160H180v160Zm220 220h160v-160H400v160Zm0 220h160v-160H400v160ZM180-400h160v-160H180v160Zm440 0h160v-160H620v160ZM180-180h160v-160H180v160Zm440 0h160v-160H620v160Z\"/>\n",
              "  </svg>\n",
              "    </button>\n",
              "\n",
              "  <style>\n",
              "    .colab-df-container {\n",
              "      display:flex;\n",
              "      gap: 12px;\n",
              "    }\n",
              "\n",
              "    .colab-df-convert {\n",
              "      background-color: #E8F0FE;\n",
              "      border: none;\n",
              "      border-radius: 50%;\n",
              "      cursor: pointer;\n",
              "      display: none;\n",
              "      fill: #1967D2;\n",
              "      height: 32px;\n",
              "      padding: 0 0 0 0;\n",
              "      width: 32px;\n",
              "    }\n",
              "\n",
              "    .colab-df-convert:hover {\n",
              "      background-color: #E2EBFA;\n",
              "      box-shadow: 0px 1px 2px rgba(60, 64, 67, 0.3), 0px 1px 3px 1px rgba(60, 64, 67, 0.15);\n",
              "      fill: #174EA6;\n",
              "    }\n",
              "\n",
              "    .colab-df-buttons div {\n",
              "      margin-bottom: 4px;\n",
              "    }\n",
              "\n",
              "    [theme=dark] .colab-df-convert {\n",
              "      background-color: #3B4455;\n",
              "      fill: #D2E3FC;\n",
              "    }\n",
              "\n",
              "    [theme=dark] .colab-df-convert:hover {\n",
              "      background-color: #434B5C;\n",
              "      box-shadow: 0px 1px 3px 1px rgba(0, 0, 0, 0.15);\n",
              "      filter: drop-shadow(0px 1px 2px rgba(0, 0, 0, 0.3));\n",
              "      fill: #FFFFFF;\n",
              "    }\n",
              "  </style>\n",
              "\n",
              "    <script>\n",
              "      const buttonEl =\n",
              "        document.querySelector('#df-7ed5638e-f10d-4eb3-8bfa-e00911893bf2 button.colab-df-convert');\n",
              "      buttonEl.style.display =\n",
              "        google.colab.kernel.accessAllowed ? 'block' : 'none';\n",
              "\n",
              "      async function convertToInteractive(key) {\n",
              "        const element = document.querySelector('#df-7ed5638e-f10d-4eb3-8bfa-e00911893bf2');\n",
              "        const dataTable =\n",
              "          await google.colab.kernel.invokeFunction('convertToInteractive',\n",
              "                                                    [key], {});\n",
              "        if (!dataTable) return;\n",
              "\n",
              "        const docLinkHtml = 'Like what you see? Visit the ' +\n",
              "          '<a target=\"_blank\" href=https://colab.research.google.com/notebooks/data_table.ipynb>data table notebook</a>'\n",
              "          + ' to learn more about interactive tables.';\n",
              "        element.innerHTML = '';\n",
              "        dataTable['output_type'] = 'display_data';\n",
              "        await google.colab.output.renderOutput(dataTable, element);\n",
              "        const docLink = document.createElement('div');\n",
              "        docLink.innerHTML = docLinkHtml;\n",
              "        element.appendChild(docLink);\n",
              "      }\n",
              "    </script>\n",
              "  </div>\n",
              "\n",
              "\n",
              "<div id=\"df-1e435ebd-7f0f-40b5-a348-de37176abe70\">\n",
              "  <button class=\"colab-df-quickchart\" onclick=\"quickchart('df-1e435ebd-7f0f-40b5-a348-de37176abe70')\"\n",
              "            title=\"Suggest charts.\"\n",
              "            style=\"display:none;\">\n",
              "\n",
              "<svg xmlns=\"http://www.w3.org/2000/svg\" height=\"24px\"viewBox=\"0 0 24 24\"\n",
              "     width=\"24px\">\n",
              "    <g>\n",
              "        <path d=\"M19 3H5c-1.1 0-2 .9-2 2v14c0 1.1.9 2 2 2h14c1.1 0 2-.9 2-2V5c0-1.1-.9-2-2-2zM9 17H7v-7h2v7zm4 0h-2V7h2v10zm4 0h-2v-4h2v4z\"/>\n",
              "    </g>\n",
              "</svg>\n",
              "  </button>\n",
              "\n",
              "<style>\n",
              "  .colab-df-quickchart {\n",
              "    background-color: #E8F0FE;\n",
              "    border: none;\n",
              "    border-radius: 50%;\n",
              "    cursor: pointer;\n",
              "    display: none;\n",
              "    fill: #1967D2;\n",
              "    height: 32px;\n",
              "    padding: 0 0 0 0;\n",
              "    width: 32px;\n",
              "  }\n",
              "\n",
              "  .colab-df-quickchart:hover {\n",
              "    background-color: #E2EBFA;\n",
              "    box-shadow: 0px 1px 2px rgba(60, 64, 67, 0.3), 0px 1px 3px 1px rgba(60, 64, 67, 0.15);\n",
              "    fill: #174EA6;\n",
              "  }\n",
              "\n",
              "  [theme=dark] .colab-df-quickchart {\n",
              "    background-color: #3B4455;\n",
              "    fill: #D2E3FC;\n",
              "  }\n",
              "\n",
              "  [theme=dark] .colab-df-quickchart:hover {\n",
              "    background-color: #434B5C;\n",
              "    box-shadow: 0px 1px 3px 1px rgba(0, 0, 0, 0.15);\n",
              "    filter: drop-shadow(0px 1px 2px rgba(0, 0, 0, 0.3));\n",
              "    fill: #FFFFFF;\n",
              "  }\n",
              "</style>\n",
              "\n",
              "  <script>\n",
              "    async function quickchart(key) {\n",
              "      const charts = await google.colab.kernel.invokeFunction(\n",
              "          'suggestCharts', [key], {});\n",
              "    }\n",
              "    (() => {\n",
              "      let quickchartButtonEl =\n",
              "        document.querySelector('#df-1e435ebd-7f0f-40b5-a348-de37176abe70 button');\n",
              "      quickchartButtonEl.style.display =\n",
              "        google.colab.kernel.accessAllowed ? 'block' : 'none';\n",
              "    })();\n",
              "  </script>\n",
              "</div>\n",
              "    </div>\n",
              "  </div>\n"
            ]
          },
          "metadata": {},
          "execution_count": 89
        }
      ]
    },
    {
      "cell_type": "markdown",
      "source": [
        "### Split the dataset"
      ],
      "metadata": {
        "id": "GN98qzY1_8uK"
      }
    },
    {
      "cell_type": "code",
      "execution_count": null,
      "metadata": {
        "id": "c5Ga3v64dgGF"
      },
      "outputs": [],
      "source": [
        "# Split training and test set\n",
        "from sklearn.model_selection import train_test_split\n",
        "\n",
        "X = df.iloc[:, :-1]\n",
        "y = df.iloc[:, -1]"
      ]
    },
    {
      "cell_type": "code",
      "source": [
        "X_train, X_test, y_train, y_test = train_test_split(X, y, test_size=0.3, random_state=42)"
      ],
      "metadata": {
        "id": "5MMyxhip_6kK"
      },
      "execution_count": null,
      "outputs": []
    },
    {
      "cell_type": "markdown",
      "source": [
        "#### Oversampling"
      ],
      "metadata": {
        "id": "qlq-hmdE_bqx"
      }
    },
    {
      "cell_type": "code",
      "source": [
        "# example of random oversampling to balance the class distribution\n",
        "from collections import Counter\n",
        "from imblearn.over_sampling import RandomOverSampler\n",
        "\n",
        "# summarize class distribution\n",
        "print(Counter(y))\n",
        "# define oversampling strategy\n",
        "oversample = RandomOverSampler(sampling_strategy='minority')\n",
        "# fit and apply the transform\n",
        "X_over, y_over = oversample.fit_resample(X, y)\n",
        "# summarize class distribution\n",
        "print(Counter(y_over))"
      ],
      "metadata": {
        "colab": {
          "base_uri": "https://localhost:8080/"
        },
        "id": "tf9inCWd_Z8p",
        "outputId": "2b8bc55e-7715-46b5-ea02-5ebeb3f3d0e0"
      },
      "execution_count": null,
      "outputs": [
        {
          "output_type": "stream",
          "name": "stdout",
          "text": [
            "Counter({1: 408965, 0: 57291})\n",
            "Counter({1: 408965, 0: 408965})\n"
          ]
        }
      ]
    },
    {
      "cell_type": "markdown",
      "source": [
        "#### Feature Importance"
      ],
      "metadata": {
        "id": "fy4XxVib_fjw"
      }
    },
    {
      "cell_type": "code",
      "execution_count": null,
      "metadata": {
        "colab": {
          "base_uri": "https://localhost:8080/",
          "height": 1000
        },
        "id": "PpTmDNFxeydG",
        "outputId": "0ee1b2da-0726-428a-c5a3-51a87fccee2a"
      },
      "outputs": [
        {
          "output_type": "stream",
          "name": "stdout",
          "text": [
            "Feature: loan_amnt, Score: 0.011935396841251921\n",
            "Feature: funded_amnt, Score: 0.1174819689818256\n",
            "Feature: funded_amnt_inv, Score: 0.00853131387798343\n",
            "Feature: term, Score: 0.0007515164363450141\n",
            "Feature: int_rate, Score: 0.01011284734426418\n",
            "Feature: installment, Score: 0.010164638055604299\n",
            "Feature: grade, Score: 0.0030161789757698226\n",
            "Feature: emp_length, Score: 0.004731883164345634\n",
            "Feature: home_ownership, Score: 0.0016905126163461004\n",
            "Feature: annual_inc, Score: 0.011602080513821408\n",
            "Feature: verification_status, Score: 0.0022470428036893766\n",
            "Feature: pymnt_plan, Score: 8.253337312061094e-07\n",
            "Feature: dti, Score: 0.01406359385629895\n",
            "Feature: delinq_2yrs, Score: 0.002921458684762171\n",
            "Feature: inq_last_6mths, Score: 0.014158931816949188\n",
            "Feature: mths_since_last_delinq, Score: 0.006908274752417885\n",
            "Feature: mths_since_last_record, Score: 0.0034196075681699515\n",
            "Feature: open_acc, Score: 0.0077305579654640385\n",
            "Feature: pub_rec, Score: 0.0010410746383036362\n",
            "Feature: revol_bal, Score: 0.01357730270551925\n",
            "Feature: revol_util, Score: 0.012754415496265891\n",
            "Feature: total_acc, Score: 0.01026187073759203\n",
            "Feature: initial_list_status, Score: 0.0014568009972425482\n",
            "Feature: out_prncp, Score: 0.05476628011571771\n",
            "Feature: out_prncp_inv, Score: 0.0519201775432387\n",
            "Feature: total_pymnt, Score: 0.00845814854051004\n",
            "Feature: total_pymnt_inv, Score: 0.00956141027055875\n",
            "Feature: total_rec_prncp, Score: 0.12298132558918588\n",
            "Feature: total_rec_int, Score: 0.01133436654991381\n",
            "Feature: total_rec_late_fee, Score: 0.016134716149212743\n",
            "Feature: recoveries, Score: 0.3926919780014261\n",
            "Feature: collection_recovery_fee, Score: 0.0\n",
            "Feature: last_pymnt_amnt, Score: 0.022271895114290056\n",
            "Feature: collections_12_mths_ex_med, Score: 0.0004235922988747459\n",
            "Feature: policy_code, Score: 0.0\n",
            "Feature: acc_now_delinq, Score: 0.00023155996880759195\n",
            "Feature: tot_coll_amt, Score: 0.0038882005354737063\n",
            "Feature: tot_cur_bal, Score: 0.016123680326869488\n",
            "Feature: total_rev_hi_lim, Score: 0.01787266753999082\n",
            "Feature: employed, Score: 0.0007799072919662919\n"
          ]
        },
        {
          "output_type": "display_data",
          "data": {
            "text/plain": [
              "<Figure size 640x480 with 1 Axes>"
            ],
            "image/png": "[encoded data removed]"
          },
          "metadata": {}
        }
      ],
      "source": [
        "# define the model\n",
        "model = RandomForestRegressor()\n",
        "# fit the model\n",
        "model.fit(X_train, y_train)\n",
        "# get importance\n",
        "importance = model.feature_importances_\n",
        "# summarize feature importance\n",
        "for i,v in enumerate(importance):\n",
        " print(f'Feature: {df.columns[i]}, Score: {v}')\n",
        "# plot feature importance\n",
        "plt.bar([x for x in range(len(importance))], importance)\n",
        "plt.show()"
      ]
    },
    {
      "cell_type": "markdown",
      "metadata": {
        "id": "Bdyd52dTFAe4"
      },
      "source": [
        "## Modelling"
      ]
    },
    {
      "cell_type": "markdown",
      "metadata": {
        "id": "7l0_UduRFFcE"
      },
      "source": [
        "### Training"
      ]
    },
    {
      "cell_type": "code",
      "source": [
        "model_metrics = {\n",
        "    'logistic_regression': {\n",
        "        'accuracy': 0,\n",
        "        'precision': 0,\n",
        "        'recall': 0,\n",
        "        'f1': 0,\n",
        "    },\n",
        "    'random_forest': {\n",
        "        'accuracy': 0,\n",
        "        'precision': 0,\n",
        "        'recall': 0,\n",
        "        'f1': 0,\n",
        "    },\n",
        "    'decision_tree': {\n",
        "        'accuracy': 0,\n",
        "        'precision': 0,\n",
        "        'recall': 0,\n",
        "        'f1': 0,\n",
        "    }\n",
        "}"
      ],
      "metadata": {
        "id": "fS54GHMrL7JK"
      },
      "execution_count": null,
      "outputs": []
    },
    {
      "cell_type": "markdown",
      "source": [
        "##### Logistic Regression Model"
      ],
      "metadata": {
        "id": "0BGhdCe-uZln"
      }
    },
    {
      "cell_type": "markdown",
      "source": [
        "###### Before oversampling"
      ],
      "metadata": {
        "id": "RWDOq_qNBD-p"
      }
    },
    {
      "cell_type": "code",
      "execution_count": null,
      "metadata": {
        "id": "_U8lzImesRbQ",
        "colab": {
          "base_uri": "https://localhost:8080/"
        },
        "outputId": "1dfda614-9816-4310-dc5d-7a7b0ac920be"
      },
      "outputs": [
        {
          "output_type": "stream",
          "name": "stderr",
          "text": [
            "/usr/local/lib/python3.10/dist-packages/sklearn/linear_model/_logistic.py:458: ConvergenceWarning: lbfgs failed to converge (status=1):\n",
            "STOP: TOTAL NO. of ITERATIONS REACHED LIMIT.\n",
            "\n",
            "Increase the number of iterations (max_iter) or scale the data as shown in:\n",
            "    https://scikit-learn.org/stable/modules/preprocessing.html\n",
            "Please also refer to the documentation for alternative solver options:\n",
            "    https://scikit-learn.org/stable/modules/linear_model.html#logistic-regression\n",
            "  n_iter_i = _check_optimize_result(\n"
          ]
        }
      ],
      "source": [
        "# Training before oversampling\n",
        "from sklearn.linear_model import LogisticRegression\n",
        "\n",
        "model_log = LogisticRegression()\n",
        "model_log.fit(X_train, y_train)\n",
        "\n",
        "y_pred = model_log.predict(X_test)"
      ]
    },
    {
      "cell_type": "code",
      "source": [
        "# Model evaluation before oversampling\n",
        "from sklearn import metrics\n",
        "\n",
        "cm = metrics.confusion_matrix(y_test, y_pred)\n",
        "sns.heatmap(cm,\n",
        "            annot=True,\n",
        "            fmt='g',\n",
        "            xticklabels=['Risky','Good'],\n",
        "            yticklabels=['Risky','Good'])"
      ],
      "metadata": {
        "colab": {
          "base_uri": "https://localhost:8080/",
          "height": 448
        },
        "id": "HqhklBHQ1uym",
        "outputId": "f82bbbe5-a969-43b0-9490-d6294ae10c5c"
      },
      "execution_count": null,
      "outputs": [
        {
          "output_type": "execute_result",
          "data": {
            "text/plain": [
              "<Axes: >"
            ]
          },
          "metadata": {},
          "execution_count": 94
        },
        {
          "output_type": "display_data",
          "data": {
            "text/plain": [
              "<Figure size 640x480 with 2 Axes>"
            ],
            "image/png": "[encoded data removed]"
          },
          "metadata": {}
        }
      ]
    },
    {
      "cell_type": "code",
      "source": [
        "from sklearn.metrics import accuracy_score, precision_score, recall_score, f1_score\n",
        "\n",
        "# Finding precision and recall\n",
        "accuracy = accuracy_score(y_test, y_pred)\n",
        "model_metrics['logistic_regression']['accuracy'] = accuracy\n",
        "print(\"Logistic Regression Accuracy   :\", accuracy)\n",
        "\n",
        "precision = precision_score(y_test, y_pred)\n",
        "model_metrics['logistic_regression']['precision'] = precision\n",
        "print(\"Logistic Regression Precision :\", precision)\n",
        "\n",
        "recall = recall_score(y_test, y_pred)\n",
        "model_metrics['logistic_regression']['recall'] = recall\n",
        "print(\"Logistic Regression Recall    :\", recall)\n",
        "\n",
        "F1_score = f1_score(y_test, y_pred)\n",
        "model_metrics['logistic_regression']['f1'] = F1_score\n",
        "print(\"Logistic Regression F1-score  :\", F1_score)"
      ],
      "metadata": {
        "colab": {
          "base_uri": "https://localhost:8080/"
        },
        "id": "DF1iXX_aAvci",
        "outputId": "693434e9-8f69-4637-987d-3edf7eaa0f2c"
      },
      "execution_count": null,
      "outputs": [
        {
          "output_type": "stream",
          "name": "stdout",
          "text": [
            "Logistic Regression Accuracy   : 0.9663132609363941\n",
            "Logistic Regression Precision : 0.9646121415199711\n",
            "Logistic Regression Recall    : 0.9982661500390727\n",
            "Logistic Regression F1-score  : 0.981150642846285\n"
          ]
        }
      ]
    },
    {
      "cell_type": "markdown",
      "source": [
        "###### After oversampling"
      ],
      "metadata": {
        "id": "aFm99uqpA-Ca"
      }
    },
    {
      "cell_type": "code",
      "source": [
        "# Training after oversampling\n",
        "from sklearn.linear_model import LogisticRegression\n",
        "\n",
        "model_log = LogisticRegression()\n",
        "model_log.fit(X_train, y_train)\n",
        "\n",
        "y_pred = model_log.predict(X_test)"
      ],
      "metadata": {
        "colab": {
          "base_uri": "https://localhost:8080/"
        },
        "id": "bgQBYfqZADc5",
        "outputId": "d3f51b56-ac3d-4195-b84a-3a21bb199d5f"
      },
      "execution_count": null,
      "outputs": [
        {
          "output_type": "stream",
          "name": "stderr",
          "text": [
            "/usr/local/lib/python3.10/dist-packages/sklearn/linear_model/_logistic.py:458: ConvergenceWarning: lbfgs failed to converge (status=1):\n",
            "STOP: TOTAL NO. of ITERATIONS REACHED LIMIT.\n",
            "\n",
            "Increase the number of iterations (max_iter) or scale the data as shown in:\n",
            "    https://scikit-learn.org/stable/modules/preprocessing.html\n",
            "Please also refer to the documentation for alternative solver options:\n",
            "    https://scikit-learn.org/stable/modules/linear_model.html#logistic-regression\n",
            "  n_iter_i = _check_optimize_result(\n"
          ]
        }
      ]
    },
    {
      "cell_type": "code",
      "source": [
        "# Model evaluation after oversampling\n",
        "from sklearn import metrics\n",
        "\n",
        "cm = metrics.confusion_matrix(y_test, y_pred)\n",
        "sns.heatmap(cm,\n",
        "            annot=True,\n",
        "            fmt='g',\n",
        "            xticklabels=['Risky','Good'],\n",
        "            yticklabels=['Risky','Good'])"
      ],
      "metadata": {
        "colab": {
          "base_uri": "https://localhost:8080/",
          "height": 448
        },
        "id": "ABs4jjpmAEWc",
        "outputId": "02d00924-774c-4175-87bd-5a5fcb3224fb"
      },
      "execution_count": null,
      "outputs": [
        {
          "output_type": "execute_result",
          "data": {
            "text/plain": [
              "<Axes: >"
            ]
          },
          "metadata": {},
          "execution_count": 61
        },
        {
          "output_type": "display_data",
          "data": {
            "text/plain": [
              "<Figure size 640x480 with 2 Axes>"
            ],
            "image/png": "[encoded data removed]"
          },
          "metadata": {}
        }
      ]
    },
    {
      "cell_type": "code",
      "source": [
        "from sklearn.metrics import accuracy_score, precision_score, recall_score, f1_score\n",
        "\n",
        "# Finding precision and recall after oversampling\n",
        "accuracy = accuracy_score(y_test, y_pred)\n",
        "print(\"Accuracy   :\", accuracy)\n",
        "precision = precision_score(y_test, y_pred)\n",
        "print(\"Precision :\", precision)\n",
        "recall = recall_score(y_test, y_pred)\n",
        "print(\"Recall    :\", recall)\n",
        "F1_score = f1_score(y_test, y_pred)\n",
        "print(\"F1-score  :\", F1_score)"
      ],
      "metadata": {
        "colab": {
          "base_uri": "https://localhost:8080/"
        },
        "id": "gAWsBxFcAp4S",
        "outputId": "0d550256-568f-4c4f-e9bb-4b5028e6f0b6"
      },
      "execution_count": null,
      "outputs": [
        {
          "output_type": "stream",
          "name": "stdout",
          "text": [
            "Accuracy   : 0.8838653674519824\n",
            "Precision : 0.8383224915088365\n",
            "Recall    : 0.9507953219237895\n",
            "F1-score  : 0.8910236063893658\n"
          ]
        }
      ]
    },
    {
      "cell_type": "markdown",
      "source": [
        "##### Random Forest Model"
      ],
      "metadata": {
        "id": "ZcIQg3ATudA5"
      }
    },
    {
      "cell_type": "code",
      "source": [
        "# Training before oversampling\n",
        "from sklearn.ensemble import RandomForestClassifier\n",
        "\n",
        "model_rf = RandomForestClassifier()\n",
        "model_rf.fit(X_train, y_train)\n",
        "\n",
        "y_pred_rf = model_rf.predict(X_test)"
      ],
      "metadata": {
        "id": "21ts_RWNugNl"
      },
      "execution_count": null,
      "outputs": []
    },
    {
      "cell_type": "code",
      "source": [
        "# Model evaluation before oversampling\n",
        "from sklearn import metrics\n",
        "\n",
        "cm = metrics.confusion_matrix(y_test, y_pred_rf)\n",
        "sns.heatmap(cm,\n",
        "            annot=True,\n",
        "            fmt='g',\n",
        "            xticklabels=['Risky','Good'],\n",
        "            yticklabels=['Risky','Good'])\n",
        "\n",
        "plt.ylabel('Prediction',fontsize=13)\n",
        "plt.xlabel('Actual',fontsize=13)\n",
        "plt.title('Confusion Matrix',fontsize=17)"
      ],
      "metadata": {
        "colab": {
          "base_uri": "https://localhost:8080/",
          "height": 499
        },
        "id": "CPiAjd5pEXBX",
        "outputId": "33a541bf-b141-486c-91a1-5ad3cd0c0cf9"
      },
      "execution_count": null,
      "outputs": [
        {
          "output_type": "execute_result",
          "data": {
            "text/plain": [
              "Text(0.5, 1.0, 'Confusion Matrix')"
            ]
          },
          "metadata": {},
          "execution_count": 97
        },
        {
          "output_type": "display_data",
          "data": {
            "text/plain": [
              "<Figure size 640x480 with 2 Axes>"
            ],
            "image/png": "[encoded data removed]"
          },
          "metadata": {}
        }
      ]
    },
    {
      "cell_type": "code",
      "source": [
        "from sklearn.metrics import accuracy_score, precision_score, recall_score, f1_score\n",
        "\n",
        "# Finding precision and recall\n",
        "accuracy = accuracy_score(y_test, y_pred_rf)\n",
        "model_metrics['random_forest']['accuracy'] = accuracy\n",
        "print(\"Random Forest Accuracy   :\", accuracy)\n",
        "\n",
        "precision = precision_score(y_test, y_pred_rf)\n",
        "model_metrics['random_forest']['precision'] = precision\n",
        "print(\"Random Forest Precision :\", precision)\n",
        "\n",
        "recall = recall_score(y_test, y_pred_rf)\n",
        "model_metrics['random_forest']['recall'] = recall\n",
        "print(\"Random Forest Recall    :\", recall)\n",
        "\n",
        "F1_score = f1_score(y_test, y_pred_rf)\n",
        "model_metrics['random_forest']['f1'] = F1_score\n",
        "print(\"Random Forest F1-score  :\", F1_score)"
      ],
      "metadata": {
        "colab": {
          "base_uri": "https://localhost:8080/"
        },
        "id": "rfpp9QKVEcL1",
        "outputId": "39e17a4d-152e-4501-fb56-cd20c803bb1e"
      },
      "execution_count": null,
      "outputs": [
        {
          "output_type": "stream",
          "name": "stdout",
          "text": [
            "Random Forest Accuracy   : 0.9737197680819577\n",
            "Random Forest Precision : 0.972170274810612\n",
            "Random Forest Recall    : 0.9986650169314926\n",
            "Random Forest F1-score  : 0.9852395560623824\n"
          ]
        }
      ]
    },
    {
      "cell_type": "markdown",
      "source": [
        "##### Decision Tree Model"
      ],
      "metadata": {
        "id": "uo66XXXuugj9"
      }
    },
    {
      "cell_type": "code",
      "source": [
        "from sklearn.tree import DecisionTreeClassifier # Import Decision Tree Classifier\n",
        "\n",
        "# Create Decision Tree classifer object\n",
        "model_dt = DecisionTreeClassifier()\n",
        "\n",
        "# Train Decision Tree Classifer\n",
        "model_dt = model_dt.fit(X_train,y_train)\n",
        "\n",
        "#Predict the response for test dataset\n",
        "y_pred_dt = model_dt.predict(X_test)\n"
      ],
      "metadata": {
        "id": "Fn8cGD3Gujf-"
      },
      "execution_count": null,
      "outputs": []
    },
    {
      "cell_type": "code",
      "source": [
        "# Model evaluation before oversampling\n",
        "from sklearn import metrics\n",
        "\n",
        "cm = metrics.confusion_matrix(y_test, y_pred_dt)\n",
        "sns.heatmap(cm,\n",
        "            annot=True,\n",
        "            fmt='g',\n",
        "            xticklabels=['Risky','Good'],\n",
        "            yticklabels=['Risky','Good'])\n",
        "\n",
        "plt.ylabel('Prediction',fontsize=13)\n",
        "plt.xlabel('Actual',fontsize=13)\n",
        "plt.title('Confusion Matrix',fontsize=17)"
      ],
      "metadata": {
        "colab": {
          "base_uri": "https://localhost:8080/",
          "height": 499
        },
        "id": "5sbzxrT9Qxj_",
        "outputId": "3ae69d92-760f-46d7-9b2e-143b1fed135d"
      },
      "execution_count": null,
      "outputs": [
        {
          "output_type": "execute_result",
          "data": {
            "text/plain": [
              "Text(0.5, 1.0, 'Confusion Matrix')"
            ]
          },
          "metadata": {},
          "execution_count": 100
        },
        {
          "output_type": "display_data",
          "data": {
            "text/plain": [
              "<Figure size 640x480 with 2 Axes>"
            ],
            "image/png": "[encoded data removed]"
          },
          "metadata": {}
        }
      ]
    },
    {
      "cell_type": "code",
      "source": [
        "from sklearn.metrics import accuracy_score, precision_score, recall_score, f1_score\n",
        "\n",
        "# Finding precision and recall\n",
        "accuracy = accuracy_score(y_test, y_pred_dt)\n",
        "model_metrics['decision_tree']['accuracy'] = accuracy\n",
        "print(\"Decision Tree Accuracy   :\", accuracy)\n",
        "\n",
        "precision = precision_score(y_test, y_pred_dt)\n",
        "model_metrics['decision_tree']['precision'] = precision\n",
        "print(\"Decision Tree Precision :\", precision)\n",
        "\n",
        "recall = recall_score(y_test, y_pred_dt)\n",
        "model_metrics['decision_tree']['recall'] = recall\n",
        "print(\"Decision Tree Recall    :\", recall)\n",
        "\n",
        "F1_score = f1_score(y_test, y_pred_dt)\n",
        "model_metrics['decision_tree']['f1'] = F1_score\n",
        "print(\"Decision Tree F1-score  :\", F1_score)"
      ],
      "metadata": {
        "colab": {
          "base_uri": "https://localhost:8080/"
        },
        "id": "KupZ2THcQ9lN",
        "outputId": "1f32d29f-dbbb-4605-c756-17264e2bb109"
      },
      "execution_count": null,
      "outputs": [
        {
          "output_type": "stream",
          "name": "stdout",
          "text": [
            "Decision Tree Accuracy   : 0.9505422621303002\n",
            "Decision Tree Precision : 0.9747727086575477\n",
            "Decision Tree Recall    : 0.9687581401406616\n",
            "Decision Tree F1-score  : 0.9717561178747275\n"
          ]
        }
      ]
    },
    {
      "cell_type": "code",
      "source": [
        "model_metrics"
      ],
      "metadata": {
        "colab": {
          "base_uri": "https://localhost:8080/"
        },
        "id": "4fXgOsgcfwWe",
        "outputId": "3eba627f-036f-46da-e317-5121cc73a902"
      },
      "execution_count": null,
      "outputs": [
        {
          "output_type": "execute_result",
          "data": {
            "text/plain": [
              "{'logistic_regression': {'accuracy': 0.9663132609363941,\n",
              "  'precision': 0.9646121415199711,\n",
              "  'recall': 0.9982661500390727,\n",
              "  'f1': 0.981150642846285},\n",
              " 'random_forest': {'accuracy': 0.9737197680819577,\n",
              "  'precision': 0.972170274810612,\n",
              "  'recall': 0.9986650169314926,\n",
              "  'f1': 0.9852395560623824},\n",
              " 'decision_tree': {'accuracy': 0.9505422621303002,\n",
              "  'precision': 0.9747727086575477,\n",
              "  'recall': 0.9687581401406616,\n",
              "  'f1': 0.9717561178747275}}"
            ]
          },
          "metadata": {},
          "execution_count": 113
        }
      ]
    },
    {
      "cell_type": "code",
      "source": [
        "print(f'model with the highest accuracy: {sorted(model_metrics, key=lambda x: model_metrics[x][\"accuracy\"], reverse=True)[0]}')\n",
        "for x in model_metrics.keys():\n",
        "  print(f'{x}: {model_metrics[x][\"accuracy\"]}')"
      ],
      "metadata": {
        "colab": {
          "base_uri": "https://localhost:8080/"
        },
        "id": "dx40ekL5dXgH",
        "outputId": "0d8e5cb4-6715-4413-f289-cdd50f5545eb"
      },
      "execution_count": null,
      "outputs": [
        {
          "output_type": "stream",
          "name": "stdout",
          "text": [
            "model with the highest accuracy: random_forest\n",
            "logistic_regression 0.9663132609363941\n",
            "random_forest 0.9737197680819577\n",
            "decision_tree 0.9505422621303002\n"
          ]
        }
      ]
    },
    {
      "cell_type": "code",
      "source": [
        "print(f'model with the highest precision: {sorted(model_metrics, key=lambda x: model_metrics[x][\"precision\"], reverse=True)[0]}')\n",
        "for x in model_metrics.keys():\n",
        "  print(f'{x}: {model_metrics[x][\"precision\"]}')"
      ],
      "metadata": {
        "colab": {
          "base_uri": "https://localhost:8080/"
        },
        "id": "jLL-WBaugIUT",
        "outputId": "ce09601b-3acd-4c51-92e1-d2569916e2e7"
      },
      "execution_count": null,
      "outputs": [
        {
          "output_type": "stream",
          "name": "stdout",
          "text": [
            "model with the highest precision: decision_tree\n",
            "logistic_regression: 0.9646121415199711\n",
            "random_forest: 0.972170274810612\n",
            "decision_tree: 0.9747727086575477\n"
          ]
        }
      ]
    },
    {
      "cell_type": "code",
      "source": [
        "print(f'model with the highest recall: {sorted(model_metrics, key=lambda x: model_metrics[x][\"recall\"], reverse=True)[0]}')\n",
        "for x in model_metrics.keys():\n",
        "  print(f'{x}: {model_metrics[x][\"recall\"]}')"
      ],
      "metadata": {
        "colab": {
          "base_uri": "https://localhost:8080/"
        },
        "id": "neTkcHqDgJ4D",
        "outputId": "dcfda97d-9dbb-429f-c7cc-47aa9eb7b566"
      },
      "execution_count": null,
      "outputs": [
        {
          "output_type": "stream",
          "name": "stdout",
          "text": [
            "model with the highest recall: random_forest\n",
            "logistic_regression: 0.9982661500390727\n",
            "random_forest: 0.9986650169314926\n",
            "decision_tree: 0.9687581401406616\n"
          ]
        }
      ]
    },
    {
      "cell_type": "code",
      "source": [
        "print(f'model with the highest f1 score: {sorted(model_metrics, key=lambda x: model_metrics[x][\"f1\"], reverse=True)[0]}')\n",
        "for x in model_metrics.keys():\n",
        "  print(f'{x}: {model_metrics[x][\"f1\"]}')"
      ],
      "metadata": {
        "colab": {
          "base_uri": "https://localhost:8080/"
        },
        "id": "sTPjfMC0gLTt",
        "outputId": "19615de2-d10a-40ba-a798-38117ad6bc79"
      },
      "execution_count": null,
      "outputs": [
        {
          "output_type": "stream",
          "name": "stdout",
          "text": [
            "model with the highest f1 score: random_forest\n",
            "logistic_regression: 0.981150642846285\n",
            "random_forest: 0.9852395560623824\n",
            "decision_tree: 0.9717561178747275\n"
          ]
        }
      ]
    },
    {
      "cell_type": "markdown",
      "source": [
        "## Assess Risk of Credit Loan"
      ],
      "metadata": {
        "id": "Ebtq9EufuuI9"
      }
    },
    {
      "cell_type": "code",
      "source": [
        "os.mkdir(os.path.join(base_path,'trained_model'))"
      ],
      "metadata": {
        "id": "nxMnL4hikwoU"
      },
      "execution_count": null,
      "outputs": []
    },
    {
      "cell_type": "code",
      "source": [
        "import pickle\n",
        "\n",
        "# save the model to disk\n",
        "filename = os.path.join(base_path, 'trained_model', 'rf_model.sav')\n",
        "pickle.dump(model_rf, open(filename, 'wb'))"
      ],
      "metadata": {
        "id": "wmSuQIdCu2G2"
      },
      "execution_count": null,
      "outputs": []
    },
    {
      "cell_type": "code",
      "source": [
        "# load the model from disk\n",
        "loaded_model = pickle.load(open(filename, 'rb'))\n",
        "result = loaded_model.score(X_test, y_test)\n",
        "print(result)"
      ],
      "metadata": {
        "colab": {
          "base_uri": "https://localhost:8080/"
        },
        "id": "_5ZPpUsQkame",
        "outputId": "68a7ca88-ccc8-4117-b785-3d39b969d839"
      },
      "execution_count": null,
      "outputs": [
        {
          "output_type": "stream",
          "name": "stdout",
          "text": [
            "0.9737197680819577\n"
          ]
        }
      ]
    },
    {
      "cell_type": "code",
      "source": [],
      "metadata": {
        "id": "slGfCCVrk8op"
      },
      "execution_count": null,
      "outputs": []
    }
  ],
  "metadata": {
    "colab": {
      "provenance": [],
      "collapsed_sections": [
        "qlq-hmdE_bqx",
        "aFm99uqpA-Ca"
      ]
    },
    "kernelspec": {
      "display_name": "Python 3",
      "name": "python3"
    },
    "language_info": {
      "name": "python"
    }
  },
  "nbformat": 4,
  "nbformat_minor": 0
}